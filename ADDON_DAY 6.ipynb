{
 "cells": [
  {
   "cell_type": "markdown",
   "id": "091ebb76",
   "metadata": {},
   "source": [
    "# QUESTION_01\n"
   ]
  },
  {
   "cell_type": "code",
   "execution_count": 9,
   "id": "60c461c9",
   "metadata": {},
   "outputs": [
    {
     "name": "stdout",
     "output_type": "stream",
     "text": [
      "45\n"
     ]
    }
   ],
   "source": [
    "scores=[12,31,45,64,23,41,15]\n",
    "sc_set=set(scores)\n",
    "top=max(sc_set)\n",
    "sc_set.remove(top)\n",
    "print(max(sc_set))"
   ]
  },
  {
   "cell_type": "code",
   "execution_count": 10,
   "id": "72f549fd",
   "metadata": {},
   "outputs": [
    {
     "data": {
      "text/plain": [
       "64"
      ]
     },
     "execution_count": 10,
     "metadata": {},
     "output_type": "execute_result"
    }
   ],
   "source": [
    "top"
   ]
  },
  {
   "cell_type": "markdown",
   "id": "f32d283b",
   "metadata": {},
   "source": [
    "# Question_02"
   ]
  },
  {
   "cell_type": "code",
   "execution_count": 1,
   "id": "afe958b0",
   "metadata": {},
   "outputs": [
    {
     "name": "stdout",
     "output_type": "stream",
     "text": [
      "{34, 23}\n"
     ]
    }
   ],
   "source": [
    "set_01={12,23,34,45,56}\n",
    "set_02={13,23,46,34,11}\n",
    "if set_01.intersection(set_02):\n",
    "    print(set_01&set_02)\n",
    "else:\n",
    "    print(set_01.union(set_02))"
   ]
  },
  {
   "cell_type": "markdown",
   "id": "e8932bfd",
   "metadata": {},
   "source": [
    "# Question_03"
   ]
  },
  {
   "cell_type": "code",
   "execution_count": 6,
   "id": "d0d8353d",
   "metadata": {},
   "outputs": [
    {
     "name": "stdout",
     "output_type": "stream",
     "text": [
      "Enter the name to the updated: ziya\n",
      "Name not found\n"
     ]
    }
   ],
   "source": [
    "D={'John' :[25,32,43],'Peter':[87,55,96],'Ram':[58,55,43],'Meena':[63,79,85]} \n",
    "n=(input('Enter the name to the updated: '))\n",
    "if n in D:\n",
    "    D[n]=[88,77,99]\n",
    "    print(D)\n",
    "else:\n",
    "    print('Name not found')"
   ]
  },
  {
   "cell_type": "markdown",
   "id": "9c03a737",
   "metadata": {},
   "source": [
    "# Question_04"
   ]
  },
  {
   "cell_type": "code",
   "execution_count": 7,
   "id": "d5d54dae",
   "metadata": {},
   "outputs": [
    {
     "data": {
      "text/plain": [
       "'Nraa'"
      ]
     },
     "execution_count": 7,
     "metadata": {},
     "output_type": "execute_result"
    }
   ],
   "source": [
    "s='Nirmala'\n",
    "s[::2]"
   ]
  },
  {
   "cell_type": "markdown",
   "id": "85133c47",
   "metadata": {},
   "source": [
    "# Question_05"
   ]
  },
  {
   "cell_type": "code",
   "execution_count": 13,
   "id": "3bf4c1fd",
   "metadata": {},
   "outputs": [
    {
     "name": "stdout",
     "output_type": "stream",
     "text": [
      "Elder= 48\n",
      "youngest= 23\n"
     ]
    }
   ],
   "source": [
    "age=[23,36,48]\n",
    "print('Elder=',max(age))\n",
    "print('youngest=',min(age))"
   ]
  },
  {
   "cell_type": "code",
   "execution_count": null,
   "id": "d3b70487",
   "metadata": {},
   "outputs": [],
   "source": []
  }
 ],
 "metadata": {
  "kernelspec": {
   "display_name": "Python 3 (ipykernel)",
   "language": "python",
   "name": "python3"
  },
  "language_info": {
   "codemirror_mode": {
    "name": "ipython",
    "version": 3
   },
   "file_extension": ".py",
   "mimetype": "text/x-python",
   "name": "python",
   "nbconvert_exporter": "python",
   "pygments_lexer": "ipython3",
   "version": "3.11.5"
  }
 },
 "nbformat": 4,
 "nbformat_minor": 5
}
